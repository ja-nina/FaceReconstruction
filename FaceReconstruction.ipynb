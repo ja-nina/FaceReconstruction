{
 "cells": [
  {
   "attachments": {},
   "cell_type": "markdown",
   "metadata": {},
   "source": [
    "# Face Reconstruction\n"
   ]
  },
  {
   "attachments": {},
   "cell_type": "markdown",
   "metadata": {},
   "source": [
    "## Tested models"
   ]
  },
  {
   "attachments": {},
   "cell_type": "markdown",
   "metadata": {},
   "source": [
    "### Basic"
   ]
  },
  {
   "cell_type": "code",
   "execution_count": 1,
   "metadata": {},
   "outputs": [
    {
     "name": "stdout",
     "output_type": "stream",
     "text": [
      "End of pretraining\n"
     ]
    }
   ],
   "source": [
    "from models.basic.Discriminator import Discriminator as BasicDiscriminator\n",
    "from models.basic.Generator import Generator as BasicGenerator\n",
    "from models.basic_2.Discriminator import  Discriminator as BasicDiscriminator_2\n",
    "from models.basic_2.Generator import Generator as BasicGenerator_2\n",
    "from models.AOT.Discriminator import Discriminator as Discriminator_AOT\n",
    "from models.AOT.Generator import Generator as BasicGenerator_AOT\n",
    "from models.double_gan.UNet import UNet as DoubleDiscriminator_UNet\n",
    "from models.double_gan.UNet_maskAware import UNet_maskAware as DoubleGenerator_UNet\n",
    "from models.double_gan.Generator import Generator as DoubleGenerator_AOT\n",
    "from classes.Experiment import Experiment\n",
    "from train import train\n",
    "from config import n_epochs\n"
   ]
  },
  {
   "cell_type": "code",
   "execution_count": 2,
   "metadata": {},
   "outputs": [],
   "source": [
    "Experiments = [  Experiment(name = 'Overfit_Study_Baseline',\n",
    "                              generator_models = [BasicGenerator_2],\n",
    "                              discriminator_models = [DoubleDiscriminator_UNet],\n",
    "                              generate_whole_image= False,\n",
    "                              overfittingStudy=True,\n",
    "                              pretrain = True,\n",
    "                              dropout_generator = 0.01,\n",
    "                              dropout_discriminator = 0.01,\n",
    "                              epochs = n_epochs),\n",
    "                Experiment(name = 'Overfit_Study_DoubleUnet',\n",
    "                              generator_models = [DoubleGenerator_UNet],\n",
    "                              discriminator_models = [DoubleDiscriminator_UNet],\n",
    "                              generate_whole_image= True,\n",
    "                              overfittingStudy=True,\n",
    "                              pretrain = True,\n",
    "                              dropout_generator = 0.01,\n",
    "                              dropout_discriminator = 0.01,\n",
    "                              epochs = n_epochs),\n",
    "                Experiment(name = 'Overfit_Study_AOT',\n",
    "                              generator_models = [BasicGenerator_AOT],\n",
    "                              discriminator_models = [DoubleDiscriminator_UNet],\n",
    "                              generate_whole_image= True,\n",
    "                              overfittingStudy=True,\n",
    "                              pretrain = True,\n",
    "                              dropout_generator = 0.1,\n",
    "                              dropout_discriminator = 0.1,\n",
    "                              epochs = n_epochs)]"
   ]
  },
  {
   "cell_type": "code",
   "execution_count": 3,
   "metadata": {},
   "outputs": [],
   "source": [
    "from train import train"
   ]
  },
  {
   "cell_type": "code",
   "execution_count": null,
   "metadata": {},
   "outputs": [],
   "source": [
    "train(Experiments[0])"
   ]
  },
  {
   "cell_type": "code",
   "execution_count": null,
   "metadata": {},
   "outputs": [],
   "source": [
    "train(Experiments[1])"
   ]
  },
  {
   "cell_type": "code",
   "execution_count": null,
   "metadata": {},
   "outputs": [],
   "source": [
    "train(Experiments[2])"
   ]
  },
  {
   "attachments": {},
   "cell_type": "markdown",
   "metadata": {},
   "source": [
    "The best model tured out to be the aot:\n",
    "- now, paste phonto\n",
    "- explain pretraining\n",
    "- tune hyperparameters\n",
    "- apply style loss\n",
    "- track when discriminator is trained and when generator is trained"
   ]
  },
  {
   "cell_type": "code",
   "execution_count": 4,
   "metadata": {},
   "outputs": [],
   "source": [
    "vanilla_aot_unet = Experiment(name = 'Vanilla_AOT_3_dropout_005',\n",
    "                              generator_models = [BasicGenerator_AOT],\n",
    "                              discriminator_models = [DoubleDiscriminator_UNet],\n",
    "                              generate_whole_image= True,\n",
    "                              overfittingStudy=False,\n",
    "                              pretrain = True,\n",
    "                              dropout_generator = 0.05,\n",
    "                              dropout_discriminator = 0.05,\n",
    "                              epochs = 20)"
   ]
  },
  {
   "cell_type": "code",
   "execution_count": 6,
   "metadata": {},
   "outputs": [
    {
     "name": "stdout",
     "output_type": "stream",
     "text": [
      "https://app.neptune.ai/zukowskanina1/FaceReconstruction/e/FAC-140\n",
      "Remember to stop your run once you’ve finished logging your metadata (https://docs.neptune.ai/api/run#stop). It will be stopped automatically only when the notebook kernel/interactive console is terminated.\n",
      "INITIALISING WEIGHTS\n",
      "INITIALISING WEIGHTS\n",
      "Pretraining\n"
     ]
    },
    {
     "name": "stderr",
     "output_type": "stream",
     "text": [
      "Pretrain :   6%|▌         | 57/1000 [00:34<09:30,  1.65it/s] \n"
     ]
    },
    {
     "ename": "KeyboardInterrupt",
     "evalue": "",
     "output_type": "error",
     "traceback": [
      "\u001b[1;31m---------------------------------------------------------------------------\u001b[0m",
      "\u001b[1;31mKeyboardInterrupt\u001b[0m                         Traceback (most recent call last)",
      "\u001b[1;32mc:\\Users\\ismyn\\UNI\\SEM5\\CV\\FaceReconstruction\\FaceReconstruction.ipynb Cell 12\u001b[0m in \u001b[0;36m<cell line: 1>\u001b[1;34m()\u001b[0m\n\u001b[1;32m----> <a href='vscode-notebook-cell:/c%3A/Users/ismyn/UNI/SEM5/CV/FaceReconstruction/FaceReconstruction.ipynb#X14sZmlsZQ%3D%3D?line=0'>1</a>\u001b[0m train(vanilla_aot_unet)\n",
      "File \u001b[1;32mc:\\Users\\ismyn\\UNI\\SEM5\\CV\\FaceReconstruction\\train.py:61\u001b[0m, in \u001b[0;36mtrain\u001b[1;34m(MyExperiment)\u001b[0m\n\u001b[0;32m     59\u001b[0m MyExperiment\u001b[39m.\u001b[39mset_up()\n\u001b[0;32m     60\u001b[0m \u001b[39mif\u001b[39;00m MyExperiment\u001b[39m.\u001b[39mpretrain:\n\u001b[1;32m---> 61\u001b[0m     MyExperiment\u001b[39m.\u001b[39;49mpretrainGenerator(run \u001b[39m=\u001b[39;49m run)\n\u001b[0;32m     63\u001b[0m \u001b[39mfor\u001b[39;00m epoch \u001b[39min\u001b[39;00m \u001b[39mrange\u001b[39m(MyExperiment\u001b[39m.\u001b[39mepochs):\n\u001b[0;32m     64\u001b[0m     gen_adv_losses, gen_pixel_losses, disc_losses \u001b[39m=\u001b[39m MyExperiment\u001b[39m.\u001b[39mtrainEpoch(epoch, run \u001b[39m=\u001b[39m run)\n",
      "File \u001b[1;32mc:\\Users\\ismyn\\UNI\\SEM5\\CV\\FaceReconstruction\\classes\\Experiment.py:306\u001b[0m, in \u001b[0;36mExperiment.pretrainGenerator\u001b[1;34m(self, epochs, run)\u001b[0m\n\u001b[0;32m    303\u001b[0m     g_pixel \u001b[39m=\u001b[39m pixelwise_loss(gen_parts, masked_parts)\n\u001b[0;32m    305\u001b[0m g_pixel\u001b[39m.\u001b[39mbackward()\n\u001b[1;32m--> 306\u001b[0m \u001b[39mself\u001b[39;49m\u001b[39m.\u001b[39;49mOptimizer_G\u001b[39m.\u001b[39;49mstep()\n\u001b[0;32m    307\u001b[0m \u001b[39mif\u001b[39;00m run \u001b[39mis\u001b[39;00m \u001b[39mnot\u001b[39;00m \u001b[39mNone\u001b[39;00m:\n\u001b[0;32m    308\u001b[0m     run[\u001b[39m\"\u001b[39m\u001b[39mpretrain/gen_pixel_loss\u001b[39m\u001b[39m\"\u001b[39m]\u001b[39m.\u001b[39mappend(g_pixel)\n",
      "File \u001b[1;32mc:\\Users\\ismyn\\Anaconda3\\envs\\FaceReconstruction\\lib\\site-packages\\torch\\optim\\optimizer.py:140\u001b[0m, in \u001b[0;36mOptimizer._hook_for_profile.<locals>.profile_hook_step.<locals>.wrapper\u001b[1;34m(*args, **kwargs)\u001b[0m\n\u001b[0;32m    138\u001b[0m profile_name \u001b[39m=\u001b[39m \u001b[39m\"\u001b[39m\u001b[39mOptimizer.step#\u001b[39m\u001b[39m{}\u001b[39;00m\u001b[39m.step\u001b[39m\u001b[39m\"\u001b[39m\u001b[39m.\u001b[39mformat(obj\u001b[39m.\u001b[39m\u001b[39m__class__\u001b[39m\u001b[39m.\u001b[39m\u001b[39m__name__\u001b[39m)\n\u001b[0;32m    139\u001b[0m \u001b[39mwith\u001b[39;00m torch\u001b[39m.\u001b[39mautograd\u001b[39m.\u001b[39mprofiler\u001b[39m.\u001b[39mrecord_function(profile_name):\n\u001b[1;32m--> 140\u001b[0m     out \u001b[39m=\u001b[39m func(\u001b[39m*\u001b[39margs, \u001b[39m*\u001b[39m\u001b[39m*\u001b[39mkwargs)\n\u001b[0;32m    141\u001b[0m     obj\u001b[39m.\u001b[39m_optimizer_step_code()\n\u001b[0;32m    142\u001b[0m     \u001b[39mreturn\u001b[39;00m out\n",
      "File \u001b[1;32mc:\\Users\\ismyn\\Anaconda3\\envs\\FaceReconstruction\\lib\\site-packages\\torch\\optim\\optimizer.py:23\u001b[0m, in \u001b[0;36m_use_grad_for_differentiable.<locals>._use_grad\u001b[1;34m(self, *args, **kwargs)\u001b[0m\n\u001b[0;32m     21\u001b[0m \u001b[39mtry\u001b[39;00m:\n\u001b[0;32m     22\u001b[0m     torch\u001b[39m.\u001b[39mset_grad_enabled(\u001b[39mself\u001b[39m\u001b[39m.\u001b[39mdefaults[\u001b[39m'\u001b[39m\u001b[39mdifferentiable\u001b[39m\u001b[39m'\u001b[39m])\n\u001b[1;32m---> 23\u001b[0m     ret \u001b[39m=\u001b[39m func(\u001b[39mself\u001b[39m, \u001b[39m*\u001b[39margs, \u001b[39m*\u001b[39m\u001b[39m*\u001b[39mkwargs)\n\u001b[0;32m     24\u001b[0m \u001b[39mfinally\u001b[39;00m:\n\u001b[0;32m     25\u001b[0m     torch\u001b[39m.\u001b[39mset_grad_enabled(prev_grad)\n",
      "File \u001b[1;32mc:\\Users\\ismyn\\Anaconda3\\envs\\FaceReconstruction\\lib\\site-packages\\torch\\optim\\adam.py:234\u001b[0m, in \u001b[0;36mAdam.step\u001b[1;34m(self, closure, grad_scaler)\u001b[0m\n\u001b[0;32m    231\u001b[0m                 \u001b[39mraise\u001b[39;00m \u001b[39mRuntimeError\u001b[39;00m(\u001b[39m'\u001b[39m\u001b[39m`requires_grad` is not supported for `step` in differentiable mode\u001b[39m\u001b[39m'\u001b[39m)\n\u001b[0;32m    232\u001b[0m             state_steps\u001b[39m.\u001b[39mappend(state[\u001b[39m'\u001b[39m\u001b[39mstep\u001b[39m\u001b[39m'\u001b[39m])\n\u001b[1;32m--> 234\u001b[0m     adam(params_with_grad,\n\u001b[0;32m    235\u001b[0m          grads,\n\u001b[0;32m    236\u001b[0m          exp_avgs,\n\u001b[0;32m    237\u001b[0m          exp_avg_sqs,\n\u001b[0;32m    238\u001b[0m          max_exp_avg_sqs,\n\u001b[0;32m    239\u001b[0m          state_steps,\n\u001b[0;32m    240\u001b[0m          amsgrad\u001b[39m=\u001b[39;49mgroup[\u001b[39m'\u001b[39;49m\u001b[39mamsgrad\u001b[39;49m\u001b[39m'\u001b[39;49m],\n\u001b[0;32m    241\u001b[0m          beta1\u001b[39m=\u001b[39;49mbeta1,\n\u001b[0;32m    242\u001b[0m          beta2\u001b[39m=\u001b[39;49mbeta2,\n\u001b[0;32m    243\u001b[0m          lr\u001b[39m=\u001b[39;49mgroup[\u001b[39m'\u001b[39;49m\u001b[39mlr\u001b[39;49m\u001b[39m'\u001b[39;49m],\n\u001b[0;32m    244\u001b[0m          weight_decay\u001b[39m=\u001b[39;49mgroup[\u001b[39m'\u001b[39;49m\u001b[39mweight_decay\u001b[39;49m\u001b[39m'\u001b[39;49m],\n\u001b[0;32m    245\u001b[0m          eps\u001b[39m=\u001b[39;49mgroup[\u001b[39m'\u001b[39;49m\u001b[39meps\u001b[39;49m\u001b[39m'\u001b[39;49m],\n\u001b[0;32m    246\u001b[0m          maximize\u001b[39m=\u001b[39;49mgroup[\u001b[39m'\u001b[39;49m\u001b[39mmaximize\u001b[39;49m\u001b[39m'\u001b[39;49m],\n\u001b[0;32m    247\u001b[0m          foreach\u001b[39m=\u001b[39;49mgroup[\u001b[39m'\u001b[39;49m\u001b[39mforeach\u001b[39;49m\u001b[39m'\u001b[39;49m],\n\u001b[0;32m    248\u001b[0m          capturable\u001b[39m=\u001b[39;49mgroup[\u001b[39m'\u001b[39;49m\u001b[39mcapturable\u001b[39;49m\u001b[39m'\u001b[39;49m],\n\u001b[0;32m    249\u001b[0m          differentiable\u001b[39m=\u001b[39;49mgroup[\u001b[39m'\u001b[39;49m\u001b[39mdifferentiable\u001b[39;49m\u001b[39m'\u001b[39;49m],\n\u001b[0;32m    250\u001b[0m          fused\u001b[39m=\u001b[39;49mgroup[\u001b[39m'\u001b[39;49m\u001b[39mfused\u001b[39;49m\u001b[39m'\u001b[39;49m],\n\u001b[0;32m    251\u001b[0m          grad_scale\u001b[39m=\u001b[39;49mgrad_scale,\n\u001b[0;32m    252\u001b[0m          found_inf\u001b[39m=\u001b[39;49mfound_inf)\n\u001b[0;32m    254\u001b[0m \u001b[39mreturn\u001b[39;00m loss\n",
      "File \u001b[1;32mc:\\Users\\ismyn\\Anaconda3\\envs\\FaceReconstruction\\lib\\site-packages\\torch\\optim\\adam.py:300\u001b[0m, in \u001b[0;36madam\u001b[1;34m(params, grads, exp_avgs, exp_avg_sqs, max_exp_avg_sqs, state_steps, foreach, capturable, differentiable, fused, grad_scale, found_inf, amsgrad, beta1, beta2, lr, weight_decay, eps, maximize)\u001b[0m\n\u001b[0;32m    297\u001b[0m \u001b[39melse\u001b[39;00m:\n\u001b[0;32m    298\u001b[0m     func \u001b[39m=\u001b[39m _single_tensor_adam\n\u001b[1;32m--> 300\u001b[0m func(params,\n\u001b[0;32m    301\u001b[0m      grads,\n\u001b[0;32m    302\u001b[0m      exp_avgs,\n\u001b[0;32m    303\u001b[0m      exp_avg_sqs,\n\u001b[0;32m    304\u001b[0m      max_exp_avg_sqs,\n\u001b[0;32m    305\u001b[0m      state_steps,\n\u001b[0;32m    306\u001b[0m      amsgrad\u001b[39m=\u001b[39;49mamsgrad,\n\u001b[0;32m    307\u001b[0m      beta1\u001b[39m=\u001b[39;49mbeta1,\n\u001b[0;32m    308\u001b[0m      beta2\u001b[39m=\u001b[39;49mbeta2,\n\u001b[0;32m    309\u001b[0m      lr\u001b[39m=\u001b[39;49mlr,\n\u001b[0;32m    310\u001b[0m      weight_decay\u001b[39m=\u001b[39;49mweight_decay,\n\u001b[0;32m    311\u001b[0m      eps\u001b[39m=\u001b[39;49meps,\n\u001b[0;32m    312\u001b[0m      maximize\u001b[39m=\u001b[39;49mmaximize,\n\u001b[0;32m    313\u001b[0m      capturable\u001b[39m=\u001b[39;49mcapturable,\n\u001b[0;32m    314\u001b[0m      differentiable\u001b[39m=\u001b[39;49mdifferentiable,\n\u001b[0;32m    315\u001b[0m      grad_scale\u001b[39m=\u001b[39;49mgrad_scale,\n\u001b[0;32m    316\u001b[0m      found_inf\u001b[39m=\u001b[39;49mfound_inf)\n",
      "File \u001b[1;32mc:\\Users\\ismyn\\Anaconda3\\envs\\FaceReconstruction\\lib\\site-packages\\torch\\optim\\adam.py:363\u001b[0m, in \u001b[0;36m_single_tensor_adam\u001b[1;34m(params, grads, exp_avgs, exp_avg_sqs, max_exp_avg_sqs, state_steps, grad_scale, found_inf, amsgrad, beta1, beta2, lr, weight_decay, eps, maximize, capturable, differentiable)\u001b[0m\n\u001b[0;32m    360\u001b[0m     param \u001b[39m=\u001b[39m torch\u001b[39m.\u001b[39mview_as_real(param)\n\u001b[0;32m    362\u001b[0m \u001b[39m# Decay the first and second moment running average coefficient\u001b[39;00m\n\u001b[1;32m--> 363\u001b[0m exp_avg\u001b[39m.\u001b[39;49mmul_(beta1)\u001b[39m.\u001b[39madd_(grad, alpha\u001b[39m=\u001b[39m\u001b[39m1\u001b[39m \u001b[39m-\u001b[39m beta1)\n\u001b[0;32m    364\u001b[0m exp_avg_sq\u001b[39m.\u001b[39mmul_(beta2)\u001b[39m.\u001b[39maddcmul_(grad, grad\u001b[39m.\u001b[39mconj(), value\u001b[39m=\u001b[39m\u001b[39m1\u001b[39m \u001b[39m-\u001b[39m beta2)\n\u001b[0;32m    366\u001b[0m \u001b[39mif\u001b[39;00m capturable \u001b[39mor\u001b[39;00m differentiable:\n",
      "\u001b[1;31mKeyboardInterrupt\u001b[0m: "
     ]
    }
   ],
   "source": [
    "train(vanilla_aot_unet)"
   ]
  },
  {
   "cell_type": "code",
   "execution_count": null,
   "metadata": {},
   "outputs": [],
   "source": [
    "vanilla_aot_unet = Experiment(name = 'Vanilla_AOT_3_dropout_01',\n",
    "                              generator_models = [BasicGenerator_AOT],\n",
    "                              discriminator_models = [DoubleDiscriminator_UNet],\n",
    "                              generate_whole_image= True,\n",
    "                              overfittingStudy=False,\n",
    "                              pretrain = False,\n",
    "                              dropout_generator = 0.05,\n",
    "                              dropout_discriminator = 0.1,\n",
    "                              epochs = 20)"
   ]
  },
  {
   "cell_type": "markdown",
   "metadata": {},
   "source": []
  }
 ],
 "metadata": {
  "kernelspec": {
   "display_name": "Python 3",
   "language": "python",
   "name": "python3"
  },
  "language_info": {
   "codemirror_mode": {
    "name": "ipython",
    "version": 3
   },
   "file_extension": ".py",
   "mimetype": "text/x-python",
   "name": "python",
   "nbconvert_exporter": "python",
   "pygments_lexer": "ipython3",
   "version": "3.10.8"
  },
  "orig_nbformat": 4,
  "vscode": {
   "interpreter": {
    "hash": "d867856c3cc7357577fc7fd8f34dc4f0c6a87331577ca13d81d866fff482f970"
   }
  }
 },
 "nbformat": 4,
 "nbformat_minor": 2
}
