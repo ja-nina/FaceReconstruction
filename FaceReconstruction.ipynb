{
 "cells": [
  {
   "attachments": {},
   "cell_type": "markdown",
   "metadata": {},
   "source": [
    "# Face Reconstruction\n"
   ]
  },
  {
   "attachments": {},
   "cell_type": "markdown",
   "metadata": {},
   "source": [
    "## Tested models"
   ]
  },
  {
   "attachments": {},
   "cell_type": "markdown",
   "metadata": {},
   "source": [
    "### Basic"
   ]
  },
  {
   "cell_type": "code",
   "execution_count": 6,
   "metadata": {},
   "outputs": [],
   "source": [
    "from classes.Experiment import Experiment\n",
    "from models.basic import Discriminator as BasicDiscriminator, Generator as BasicGenerator\n",
    "from models.basic_2 import  Discriminator as BasicDiscriminator_2, Generator as BasicGenerator_2\n",
    "from models.AOT import Discriminator as Discriminator_AOT, Generator as BasicGenerator_AOT"
   ]
  },
  {
   "cell_type": "code",
   "execution_count": 7,
   "metadata": {},
   "outputs": [],
   "source": [
    "Experiments = [Experiment(\"AOC_overfit\", generator_models = [BasicGenerator_AOT], discriminator_models = [Discriminator_AOT], overfittingStudy=True), Experiment(\"Basic_overfit\", overfittingStudy=True)]"
   ]
  },
  {
   "cell_type": "code",
   "execution_count": 8,
   "metadata": {},
   "outputs": [],
   "source": [
    "from train import train"
   ]
  },
  {
   "cell_type": "code",
   "execution_count": 9,
   "metadata": {},
   "outputs": [
    {
     "ename": "TypeError",
     "evalue": "'module' object is not callable",
     "output_type": "error",
     "traceback": [
      "\u001b[1;31m---------------------------------------------------------------------------\u001b[0m",
      "\u001b[1;31mTypeError\u001b[0m                                 Traceback (most recent call last)",
      "\u001b[1;32mc:\\Users\\ismyn\\UNI\\SEM5\\CV\\FaceReconstruction\\FaceReconstruction.ipynb Cell 7\u001b[0m in \u001b[0;36m<cell line: 1>\u001b[1;34m()\u001b[0m\n\u001b[1;32m----> <a href='vscode-notebook-cell:/c%3A/Users/ismyn/UNI/SEM5/CV/FaceReconstruction/FaceReconstruction.ipynb#X15sZmlsZQ%3D%3D?line=0'>1</a>\u001b[0m train(Experiments[\u001b[39m0\u001b[39;49m], epochs\u001b[39m=\u001b[39;49m \u001b[39m100\u001b[39;49m)\n",
      "File \u001b[1;32mc:\\Users\\ismyn\\UNI\\SEM5\\CV\\FaceReconstruction\\train.py:37\u001b[0m, in \u001b[0;36mtrain\u001b[1;34m(MyExperiment, epochs)\u001b[0m\n\u001b[0;32m     35\u001b[0m dataloader, test_dataloader \u001b[39m=\u001b[39m MyExperiment\u001b[39m.\u001b[39mget_dataloaders()\n\u001b[0;32m     36\u001b[0m adversarial_loss, pixelwise_loss \u001b[39m=\u001b[39m MyExperiment\u001b[39m.\u001b[39mget_loss()\n\u001b[1;32m---> 37\u001b[0m generator, discriminator \u001b[39m=\u001b[39m MyExperiment\u001b[39m.\u001b[39;49mget_Generator(), MyExperiment\u001b[39m.\u001b[39mget_Discriminator() \n\u001b[0;32m     38\u001b[0m MyExperiment\u001b[39m.\u001b[39mset_up()\n\u001b[0;32m     39\u001b[0m \u001b[39mfor\u001b[39;00m epoch \u001b[39min\u001b[39;00m \u001b[39mrange\u001b[39m(epochs):\n",
      "File \u001b[1;32mc:\\Users\\ismyn\\UNI\\SEM5\\CV\\FaceReconstruction\\classes\\Experiment.py:202\u001b[0m, in \u001b[0;36mExperiment.get_Generator\u001b[1;34m(self, channels)\u001b[0m\n\u001b[0;32m    201\u001b[0m \u001b[39mdef\u001b[39;00m \u001b[39mget_Generator\u001b[39m(\u001b[39mself\u001b[39m, channels \u001b[39m=\u001b[39m channels):\n\u001b[1;32m--> 202\u001b[0m     \u001b[39mself\u001b[39m\u001b[39m.\u001b[39mGenerator \u001b[39m=\u001b[39m \u001b[39mself\u001b[39;49m\u001b[39m.\u001b[39;49mgenerator_models[\u001b[39m0\u001b[39;49m](channels\u001b[39m=\u001b[39;49mchannels)\n\u001b[0;32m    203\u001b[0m     \u001b[39mreturn\u001b[39;00m \u001b[39mself\u001b[39m\u001b[39m.\u001b[39mGenerator\n",
      "\u001b[1;31mTypeError\u001b[0m: 'module' object is not callable"
     ]
    }
   ],
   "source": [
    "train(Experiments[0], epochs= 100)"
   ]
  }
 ],
 "metadata": {
  "kernelspec": {
   "display_name": "Python 3",
   "language": "python",
   "name": "python3"
  },
  "language_info": {
   "codemirror_mode": {
    "name": "ipython",
    "version": 3
   },
   "file_extension": ".py",
   "mimetype": "text/x-python",
   "name": "python",
   "nbconvert_exporter": "python",
   "pygments_lexer": "ipython3",
   "version": "3.10.8"
  },
  "orig_nbformat": 4,
  "vscode": {
   "interpreter": {
    "hash": "d867856c3cc7357577fc7fd8f34dc4f0c6a87331577ca13d81d866fff482f970"
   }
  }
 },
 "nbformat": 4,
 "nbformat_minor": 2
}
